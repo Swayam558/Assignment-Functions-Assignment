{
  "nbformat": 4,
  "nbformat_minor": 0,
  "metadata": {
    "colab": {
      "provenance": []
    },
    "kernelspec": {
      "name": "python3",
      "display_name": "Python 3"
    },
    "language_info": {
      "name": "python"
    }
  },
  "cells": [
    {
      "cell_type": "markdown",
      "source": [
        "# Functions Assignment"
      ],
      "metadata": {
        "id": "9ZyhZYNKTHn5"
      }
    },
    {
      "cell_type": "markdown",
      "source": [
        "1. What is the difference between a function and a method in Python?\n",
        " -  A function is a block of reusable code that performs a specific task and is not associated with any object. It is defined using the def keyword and can be called independently. Functions are useful for operations that don't need to access or modify object data.\n",
        "  \n",
        "     for ex.  \n",
        "\n",
        "     def add(a, b):\n",
        "\n",
        "    return a + b\n",
        "\n",
        "    result = add(5, 3)\n",
        "\n",
        "    print(result)  \n",
        "    \n",
        "      # Output: 8\n",
        "\n",
        " -  A method is a function that is defined inside a class and is associated with an object (an instance of that class). Methods can access and modify the object’s attributes using the self keyword.\n",
        "\n",
        "    for ex.\n",
        "\n",
        "    class Calculator:\n",
        "\n",
        "    def __init__(self, a, b):\n",
        "\n",
        "        self.a = a\n",
        "\n",
        "        self.b = b\n",
        "\n",
        "    def add(self):\n",
        "\n",
        "        return self.a + self.b\n",
        "\n",
        "    calc = Calculator(5, 3)\n",
        "\n",
        "    print(calc.add())\n",
        "    \n",
        "     # Output: 8\n",
        "\n",
        "\n",
        "\n",
        "\n",
        "2.  Explain the concept of function arguments and parameters in Python.\n",
        " -  Parameters are the variable names defined in the function declaration. They act as placeholders for the values that will be passed to the function. Parameters allow the function to accept input and work with it.\n",
        "\n",
        "     for ex.\n",
        "\n",
        "      def greet(name):\n",
        "\n",
        "      print(f\"Hello, {name}!\")\n",
        "\n",
        " -  Arguments are the actual values passed to the function when it is called. These values are assigned to the parameters in the function.\n",
        "\n",
        "     for ex.\n",
        "\n",
        "     greet(\"Shawn\")\n",
        "\n",
        "\n",
        "3.  What are the different ways to define and call a function in Python?\n",
        " -  there are several ways to define and call functions, each suited for different purposes. The most common way is using the def keyword to create a standard function. For example, a simple function greet() can be defined to print a message and called by writing greet(). Functions can also accept parameters, allowing dynamic input. For instance, def greet(name): lets you pass a name like greet(\"Swayam\") to customize the output. You can also define default arguments, which provide fallback values if no argument is given—e.g., def greet(name=\"Guest\") will print \"Hello, Guest!\" when called without any arguments.\n",
        "\n",
        " -  Python supports keyword arguments, where arguments are passed using the parameter names, making the order irrelevant, such as add(a=2, b=3). For more flexibility, Python allows variable-length arguments using *args for multiple positional arguments and **kwargs for multiple keyword arguments. This lets functions handle a dynamic number of inputs. Another approach is using lambda functions, which are anonymous one-line functions written like lambda x: x + 1. They're commonly used for quick, simple tasks. Functions in Python can also be recursive, meaning they call themselves, which is useful for tasks like calculating factorials.\n",
        "\n",
        " -  Additionally, Python treats functions as first-class objects, so you can pass a function as an argument to another function. For example, a greet() function can accept another function that modifies text, like converting it to uppercase. Overall, Python offers a versatile set of ways to define and use functions, making it easy to write both simple and complex reusable code.\n",
        "\n",
        "     ex.\n",
        "\n",
        "     def greet(name=\"Guest\"):\n",
        "\n",
        "     print(f\"Hello, {name}!\")\n",
        "\n",
        "     greet()            \n",
        "     greet(\"Alex\")       \n",
        "      # Output: Hello, Guest!\n",
        "      # Output: Hello, Alex!\n",
        "\n",
        "\n",
        "4.  What is the purpose of the `return` statement in a Python function?\n",
        " -  The return statement in a Python function is used to send back a result or value from the function to the place where it was called. It allows the function to output a result that can be stored in a variable, printed, or used in further calculations. Once the return statement is executed, the function stops running and exits immediately, even if there is more code after it.\n",
        "\n",
        "\n",
        "5.  What are iterators in Python and how do they differ from iterables?\n",
        " -  An iterable is any Python object that can return its elements one at a time. Common examples of iterables include lists, tuples, strings, and dictionaries. These objects can be looped over using a for loop because they implement the __iter__() method, which returns an iterator. An iterator is an object that keeps track of its position during iteration and returns the next value when you call the built-in next() function. It implements two methods: __iter__() (returns the iterator itself) and __next__() (returns the next item or raises StopIteration when there are no more items).\n",
        "\n",
        "\n",
        "6. Explain the concept of generators in Python and how they are defined.\n",
        " -  A generator is defined like a normal function using the def keyword, but instead of using return, it uses the yield keyword. When the generator is called, it doesn't run the function right away. Instead, it returns a generator object which can be iterated over using a for loop or the next() function.\n",
        "\n",
        "     ex.\n",
        "\n",
        "     def count_up_to(n):\n",
        "\n",
        "    i = 1\n",
        "\n",
        "    while i <= n:\n",
        "\n",
        "        yield i\n",
        "\n",
        "        i += 1\n",
        "\n",
        "     fruits is an iterable.\n",
        "\n",
        "     iter(fruits) creates an iterator.\n",
        "\n",
        "     next() gives the next item from the iterator.\n",
        "\n",
        "\n",
        "7. What are the advantages of using generators over regular functions?\n",
        "\n",
        " -  Generators in Python are special functions that use the yield keyword to produce values one at a time, allowing for memory-efficient and lazy evaluation of data. Unlike regular functions that return all results at once and store them in memory, generators generate values only when needed, making them ideal for working with large datasets or infinite sequences. Two key advantages of using generators are lower memory usage, since they don’t store the entire output, and improved performance, as they avoid unnecessary computation by producing values on demand.\n",
        "\n",
        " -  Memory Efficiency – Generators do not store all values in memory; they yield one value at a time, making them ideal for handling large or infinite data streams.\n",
        "\n",
        " -  Lazy Evaluation – Generators produce values only when requested, which saves processing time and resources when not all values are needed at once.\n",
        "\n",
        "\n",
        "8. What is a lambda function in Python and when is it typically used?\n",
        " -  A lambda function in Python is a small, anonymous function defined using the lambda keyword instead of def. It can take any number of arguments but must have only one expression, which is evaluated and returned automatically. Lambda functions are typically used for short, simple operations that are needed temporarily, especially when defining a full function would be unnecessary or make the code less readable.\n",
        "\n",
        "     for ex.\n",
        "\n",
        "     # Regular function\n",
        "\n",
        "     def square(x):\n",
        "\n",
        "     return x * x\n",
        "\n",
        "     Lambda version:\n",
        "\n",
        "     square = lambda x: x * x\n",
        "\n",
        "     print(square(4))\n",
        "     \n",
        "      # Output: 16\n",
        "\n",
        "\n",
        "9.  Explain the purpose and usage of the `map()` function in Python.\n",
        " -  The map() function in Python is used to apply a specific function to each item in an iterable, such as a list or tuple, and returns a new iterator with the transformed results. It helps simplify the process of performing the same operation on multiple elements without writing an explicit loop. The syntax of map() is map(function, iterable), where the given function is applied to every element of the iterable. This function is often used in combination with lambda functions for concise transformations. For example, you can square all numbers in a list using map(lambda x: x**2, numbers). Since map() returns a map object (an iterator), it is commonly converted to a list using list() to see the output. Overall, map() is useful for clean, efficient, and readable data transformations in Python.\n",
        "\n",
        "\n",
        "10. What is the difference between `map()`, `reduce()`, and `filter()` functions in Python?\n",
        " -  In Python, map(), reduce(), and filter() are built-in functions that allow functional-style operations on iterables, but they serve different purposes and behave differently:\n",
        "\n",
        "     The map() function is used to apply a function to each item in an iterable, producing a new iterable with the transformed values. For example, if you have a list of numbers and want to square each one, map() will apply the squaring function to every item and return a result.\n",
        "    \n",
        "     The filter() function is used to filter items in an iterable based on a condition. It applies a function that returns either True or False for each item, and only the items that return True are included in the result. It is useful for extracting a subset of items that meet certain criteria.\n",
        "     \n",
        "     The reduce() function, from the functools module, is used to repeatedly apply a function to the items of an iterable to reduce it to a single value. Unlike map() and filter(), which return collections, reduce() performs a rolling computation, such as summing or multiplying all items in a list.\n",
        "\n",
        "\n",
        "11. Using pen & Paper write the internal mechanism for sum operation using  reduce function on this given\n",
        "list:[47,11,42,13];\n",
        " -  The reduce() function applies the operation pairwise from left to right:\n",
        "\n",
        "     First Step:\n",
        "     x = 47, y = 11 → x + y = 58\n",
        "\n",
        "     Second Step:\n",
        "     x = 58, y = 42 → x + y = 100\n",
        "\n",
        "     Third Step:  \n",
        "      x = 100, y = 13 → x + y = 113\n",
        "\n",
        "\n",
        "      \n"
      ],
      "metadata": {
        "id": "yUYg7uGOTepY"
      }
    },
    {
      "cell_type": "code",
      "source": [
        "# Write a Python function that takes a list of numbers as input and returns the sum of all even numbers in the list.\n",
        "\n",
        "def sum_of_evens(numbers):\n",
        "    return sum(x for x in numbers if x % 2 == 0)\n",
        "\n",
        "\n",
        "print(sum_of_evens([1, 2, 3, 4, 5, 6]))\n"
      ],
      "metadata": {
        "colab": {
          "base_uri": "https://localhost:8080/"
        },
        "id": "ydEAVa0dcDl8",
        "outputId": "2fdf8a23-8762-48a2-964b-1d57124fc4a2"
      },
      "execution_count": 5,
      "outputs": [
        {
          "output_type": "stream",
          "name": "stdout",
          "text": [
            "12\n"
          ]
        }
      ]
    },
    {
      "cell_type": "code",
      "source": [
        "#  Create a Python function that accepts a string and returns the reverse of that string.\n",
        "\n",
        "def sum_of_evens(numbers):\n",
        "    total = 0\n",
        "    for num in numbers:\n",
        "        if num % 2 == 0:\n",
        "            total += num\n",
        "    return total\n",
        "\n",
        "print(sum_of_evens([1, 2, 3, 4]))  # Output: 6\n"
      ],
      "metadata": {
        "colab": {
          "base_uri": "https://localhost:8080/"
        },
        "id": "od131b7QcrJk",
        "outputId": "ee6f0fd7-74a6-4c00-bcfd-f703a3bef639"
      },
      "execution_count": 1,
      "outputs": [
        {
          "output_type": "stream",
          "name": "stdout",
          "text": [
            "6\n"
          ]
        }
      ]
    },
    {
      "cell_type": "code",
      "source": [
        "#  Implement a Python function that takes a list of integers and returns a new list containing the squares of each number.\n",
        "\n",
        "def square_list(numbers):\n",
        "    return [x ** 2 for x in numbers]\n",
        "\n",
        "\n",
        "print(square_list([1, 2, 3, 4]))  # Output: [1, 4, 9, 16]\n"
      ],
      "metadata": {
        "colab": {
          "base_uri": "https://localhost:8080/"
        },
        "id": "J5LTsRhQfoGZ",
        "outputId": "8867f5cc-08f5-4317-eecf-67aa0a264e6b"
      },
      "execution_count": 2,
      "outputs": [
        {
          "output_type": "stream",
          "name": "stdout",
          "text": [
            "[1, 4, 9, 16]\n"
          ]
        }
      ]
    },
    {
      "cell_type": "code",
      "source": [
        "# Write a Python function that checks if a given number is prime or not from 1 to 200.\n",
        "\n",
        "def square_list(numbers):\n",
        "    return [x ** 2 for x in numbers]\n",
        "\n",
        "print(square_list([1, 2, 3, 4]))  # Output: [1, 4, 9, 16]\n"
      ],
      "metadata": {
        "colab": {
          "base_uri": "https://localhost:8080/"
        },
        "id": "WSgX0ARpf24-",
        "outputId": "571aa291-d895-4863-e6b7-09aa0db035f7"
      },
      "execution_count": 3,
      "outputs": [
        {
          "output_type": "stream",
          "name": "stdout",
          "text": [
            "[1, 4, 9, 16]\n"
          ]
        }
      ]
    },
    {
      "cell_type": "code",
      "source": [
        "# Create an iterator class in Python that generates the Fibonacci sequence up to a specified number of terms.\n",
        "\n",
        "def square_list(numbers):\n",
        "    return [x ** 2 for x in numbers]\n",
        "\n",
        "\n",
        "print(square_list([1, 2, 3, 4]))  # Output: [1, 4, 9, 16]\n"
      ],
      "metadata": {
        "id": "Zjr4_MMYgBbT"
      },
      "execution_count": null,
      "outputs": []
    },
    {
      "cell_type": "code",
      "source": [
        "#  Write a generator function in Python that yields the powers of 2 up to a given exponent.\n",
        "\n",
        "def powers_of_two(n):\n",
        "    for i in range(n + 1):\n",
        "        yield 2 ** i\n",
        "\n",
        "\n",
        "for value in powers_of_two(4):\n",
        "    print(value)\n"
      ],
      "metadata": {
        "colab": {
          "base_uri": "https://localhost:8080/"
        },
        "id": "BI_YGuTFgPAq",
        "outputId": "c4b1610d-44b6-40d6-f0a7-0c38dc35dc02"
      },
      "execution_count": 4,
      "outputs": [
        {
          "output_type": "stream",
          "name": "stdout",
          "text": [
            "1\n",
            "2\n",
            "4\n",
            "8\n",
            "16\n"
          ]
        }
      ]
    },
    {
      "cell_type": "code",
      "source": [
        "# Implement a generator function that reads a file line by line and yields each line as a string.\n",
        "\n",
        "def read_lines(filename):\n",
        "    with open(filename, 'r') as file:\n",
        "        for line in file:\n",
        "            yield line.strip()\n"
      ],
      "metadata": {
        "id": "UNt_HCj6gcpt"
      },
      "execution_count": 6,
      "outputs": []
    },
    {
      "cell_type": "code",
      "source": [
        "#  Use a lambda function in Python to sort a list of tuples based on the second element of each tuple.\n",
        "\n",
        "\n",
        "my_list = [(2, 5), (1, 2), (4, 1), (3, 4)]\n",
        "\n",
        "\n",
        "sorted_list = sorted(my_list, key=lambda x: x[1])\n",
        "\n",
        "\n",
        "print(\"Sorted list:\", sorted_list)\n"
      ],
      "metadata": {
        "colab": {
          "base_uri": "https://localhost:8080/"
        },
        "id": "uw-NqbLgiA5M",
        "outputId": "b1652542-7659-4f9b-c72c-4bd44a5268eb"
      },
      "execution_count": 7,
      "outputs": [
        {
          "output_type": "stream",
          "name": "stdout",
          "text": [
            "Sorted list: [(4, 1), (1, 2), (3, 4), (2, 5)]\n"
          ]
        }
      ]
    },
    {
      "cell_type": "code",
      "source": [
        "# Write a Python program that uses `map()` to convert a list of temperatures from Celsius to Fahrenheit.\n",
        "\n",
        "\n",
        "celsius = [0, 25, 30, 40]\n",
        "\n",
        "\n",
        "fahrenheit = list(map(lambda x: (x * 9/5) + 32, celsius))\n",
        "\n",
        "print(fahrenheit)\n"
      ],
      "metadata": {
        "colab": {
          "base_uri": "https://localhost:8080/"
        },
        "id": "IWLWY8OiijU5",
        "outputId": "5a7dabf4-5ff3-4077-e345-2d90b3423ab1"
      },
      "execution_count": 8,
      "outputs": [
        {
          "output_type": "stream",
          "name": "stdout",
          "text": [
            "[32.0, 77.0, 86.0, 104.0]\n"
          ]
        }
      ]
    },
    {
      "cell_type": "code",
      "source": [
        "# Create a Python program that uses `filter()` to remove all the vowels from a given string.\n",
        "text = \"Hello World\"\n",
        "vowels = 'aeiouAEIOU'\n",
        "result = ''.join(filter(lambda x: x not in vowels, text))\n",
        "print(result)\n"
      ],
      "metadata": {
        "colab": {
          "base_uri": "https://localhost:8080/"
        },
        "id": "xNVzDltVjEyh",
        "outputId": "367e25bf-daef-4e5a-a400-f7d3e3218581"
      },
      "execution_count": 9,
      "outputs": [
        {
          "output_type": "stream",
          "name": "stdout",
          "text": [
            "Hll Wrld\n"
          ]
        }
      ]
    },
    {
      "cell_type": "code",
      "source": [
        "# Imagine an accounting routine used in a book shop. It works on a list with sublists, which look like this Write a Python program, which returns a list with 2-tuples. Each tuple consists of the order number and the product of the price per item and the quantity. The product should be increased by 10,- € if the value of the order is smaller than 100,00 €.\n",
        "\n",
        "orders = [\n",
        "    {\"Order\": 34587, \"Price\": 40.95, \"Quantity\": 4},\n",
        "    {\"Order\": 98762, \"Price\": 56.80, \"Quantity\": 5},\n",
        "    {\"Order\": 77226, \"Price\": 32.95, \"Quantity\": 3},\n",
        "    {\"Order\": 88112, \"Price\": 24.99, \"Quantity\": 3}\n",
        "]\n",
        "\n",
        "result = [\n",
        "    (order[\"Order\"],\n",
        "     (order[\"Price\"] * order[\"Quantity\"]) + 10 if (order[\"Price\"] * order[\"Quantity\"]) < 100 else (order[\"Price\"] * order[\"Quantity\"]))\n",
        "    for order in orders\n",
        "]\n",
        "\n",
        "print(result)"
      ],
      "metadata": {
        "colab": {
          "base_uri": "https://localhost:8080/"
        },
        "id": "ZlPA8wssj_77",
        "outputId": "23759c66-75b8-4cff-ebf6-5940e968a7f8"
      },
      "execution_count": 12,
      "outputs": [
        {
          "output_type": "stream",
          "name": "stdout",
          "text": [
            "[(34587, 163.8), (98762, 284.0), (77226, 108.85000000000001), (88112, 84.97)]\n"
          ]
        }
      ]
    },
    {
      "cell_type": "code",
      "source": [],
      "metadata": {
        "id": "8EAvsSqokn-4"
      },
      "execution_count": null,
      "outputs": []
    }
  ]
}